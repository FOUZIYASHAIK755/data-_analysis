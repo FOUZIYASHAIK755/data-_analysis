{
 "cells": [
  {
   "cell_type": "code",
   "execution_count": 10,
   "id": "f53344f8",
   "metadata": {},
   "outputs": [
    {
     "name": "stdout",
     "output_type": "stream",
     "text": [
      "    age  income class\n",
      "0    22    2000  high\n",
      "1    25    2500   low\n",
      "2    28    2700   low\n",
      "3    30    3200  high\n",
      "4    35    3500   low\n",
      "5    40    3800  high\n",
      "6    45    4000  high\n",
      "7    50    4200   low\n",
      "8    55    4300   low\n",
      "9    60    4500  high\n",
      "10   65    5000   low\n",
      "11   70    5500  high\n"
     ]
    }
   ],
   "source": [
    "import pandas as pd\n",
    "from sklearn.utils import resample\n",
    "df = pd.DataFrame({\n",
    "    'age': [22, 25, 28, 30, 35, 40, 45, 50, 55, 60, 65, 70],\n",
    "    'income': [2000, 2500, 2700, 3200, 3500, 3800, 4000, 4200, 4300, 4500, 5000, 5500],\n",
    "    'class': ['high', 'low', 'low', 'high', 'low', 'high', 'high', 'low', 'low', 'high', 'low', 'high']\n",
    "})\n",
    "print(df)"
   ]
  },
  {
   "cell_type": "code",
   "execution_count": 11,
   "id": "71b84211",
   "metadata": {},
   "outputs": [
    {
     "name": "stdout",
     "output_type": "stream",
     "text": [
      "    age  income class\n",
      "0    22    2000  high\n",
      "3    30    3200  high\n",
      "5    40    3800  high\n",
      "6    45    4000  high\n",
      "9    60    4500  high\n",
      "11   70    5500  high\n",
      "    age  income class\n",
      "1    25    2500   low\n",
      "2    28    2700   low\n",
      "4    35    3500   low\n",
      "7    50    4200   low\n",
      "8    55    4300   low\n",
      "10   65    5000   low\n"
     ]
    }
   ],
   "source": [
    "df_high=df[df['class']=='high']\n",
    "df_low=df[df['class']=='low']\n",
    "print(df_high)\n",
    "print(df_low)"
   ]
  },
  {
   "cell_type": "code",
   "execution_count": 12,
   "id": "933d2562",
   "metadata": {},
   "outputs": [
    {
     "name": "stdout",
     "output_type": "stream",
     "text": [
      "    age  income class\n",
      "0    22    2000  high\n",
      "3    30    3200  high\n",
      "11   70    5500  high\n",
      "5    40    3800  high\n",
      "9    60    4500  high\n",
      "6    45    4000  high\n"
     ]
    }
   ],
   "source": [
    "df_high_downsample=resample(df_high,replace=False,n_samples=len(df_low),random_state=42)\n",
    "print(df_high_downsample)"
   ]
  },
  {
   "cell_type": "code",
   "execution_count": 13,
   "id": "ec59fb27",
   "metadata": {},
   "outputs": [
    {
     "name": "stdout",
     "output_type": "stream",
     "text": [
      "    age  income class\n",
      "0    22    2000  high\n",
      "3    30    3200  high\n",
      "11   70    5500  high\n",
      "5    40    3800  high\n",
      "9    60    4500  high\n",
      "6    45    4000  high\n",
      "1    25    2500   low\n",
      "2    28    2700   low\n",
      "4    35    3500   low\n",
      "7    50    4200   low\n",
      "8    55    4300   low\n",
      "10   65    5000   low\n",
      "class\n",
      "high    6\n",
      "low     6\n",
      "Name: count, dtype: int64\n"
     ]
    }
   ],
   "source": [
    "df_balanced=pd.concat([df_high_downsample,df_low])\n",
    "print(df_balanced)\n",
    "print(df_balanced['class'].value_counts())"
   ]
  },
  {
   "cell_type": "code",
   "execution_count": 14,
   "id": "7496a775",
   "metadata": {},
   "outputs": [
    {
     "data": {
      "text/html": [
       "<div>\n",
       "<style scoped>\n",
       "    .dataframe tbody tr th:only-of-type {\n",
       "        vertical-align: middle;\n",
       "    }\n",
       "\n",
       "    .dataframe tbody tr th {\n",
       "        vertical-align: top;\n",
       "    }\n",
       "\n",
       "    .dataframe thead th {\n",
       "        text-align: right;\n",
       "    }\n",
       "</style>\n",
       "<table border=\"1\" class=\"dataframe\">\n",
       "  <thead>\n",
       "    <tr style=\"text-align: right;\">\n",
       "      <th></th>\n",
       "      <th>age</th>\n",
       "      <th>income</th>\n",
       "      <th>class</th>\n",
       "    </tr>\n",
       "  </thead>\n",
       "  <tbody>\n",
       "    <tr>\n",
       "      <th>0</th>\n",
       "      <td>22</td>\n",
       "      <td>2000</td>\n",
       "      <td>min</td>\n",
       "    </tr>\n",
       "    <tr>\n",
       "      <th>1</th>\n",
       "      <td>25</td>\n",
       "      <td>2500</td>\n",
       "      <td>maj</td>\n",
       "    </tr>\n",
       "    <tr>\n",
       "      <th>2</th>\n",
       "      <td>28</td>\n",
       "      <td>2700</td>\n",
       "      <td>maj</td>\n",
       "    </tr>\n",
       "    <tr>\n",
       "      <th>3</th>\n",
       "      <td>30</td>\n",
       "      <td>3200</td>\n",
       "      <td>maj</td>\n",
       "    </tr>\n",
       "    <tr>\n",
       "      <th>4</th>\n",
       "      <td>35</td>\n",
       "      <td>3500</td>\n",
       "      <td>maj</td>\n",
       "    </tr>\n",
       "    <tr>\n",
       "      <th>5</th>\n",
       "      <td>40</td>\n",
       "      <td>3800</td>\n",
       "      <td>min</td>\n",
       "    </tr>\n",
       "    <tr>\n",
       "      <th>6</th>\n",
       "      <td>45</td>\n",
       "      <td>4000</td>\n",
       "      <td>,min</td>\n",
       "    </tr>\n",
       "    <tr>\n",
       "      <th>7</th>\n",
       "      <td>50</td>\n",
       "      <td>4200</td>\n",
       "      <td>maj</td>\n",
       "    </tr>\n",
       "    <tr>\n",
       "      <th>8</th>\n",
       "      <td>55</td>\n",
       "      <td>4300</td>\n",
       "      <td>min</td>\n",
       "    </tr>\n",
       "    <tr>\n",
       "      <th>9</th>\n",
       "      <td>60</td>\n",
       "      <td>4500</td>\n",
       "      <td>maj</td>\n",
       "    </tr>\n",
       "    <tr>\n",
       "      <th>10</th>\n",
       "      <td>65</td>\n",
       "      <td>5000</td>\n",
       "      <td>min</td>\n",
       "    </tr>\n",
       "    <tr>\n",
       "      <th>11</th>\n",
       "      <td>70</td>\n",
       "      <td>5500</td>\n",
       "      <td>maj</td>\n",
       "    </tr>\n",
       "  </tbody>\n",
       "</table>\n",
       "</div>"
      ],
      "text/plain": [
       "    age  income class\n",
       "0    22    2000   min\n",
       "1    25    2500   maj\n",
       "2    28    2700   maj\n",
       "3    30    3200   maj\n",
       "4    35    3500   maj\n",
       "5    40    3800   min\n",
       "6    45    4000  ,min\n",
       "7    50    4200   maj\n",
       "8    55    4300   min\n",
       "9    60    4500   maj\n",
       "10   65    5000   min\n",
       "11   70    5500   maj"
      ]
     },
     "execution_count": 14,
     "metadata": {},
     "output_type": "execute_result"
    }
   ],
   "source": [
    "df1=pd.DataFrame({\n",
    "    'age': [22, 25, 28, 30, 35, 40, 45, 50, 55, 60, 65, 70],\n",
    "    'income': [2000, 2500, 2700, 3200, 3500, 3800, 4000, 4200, 4300, 4500, 5000, 5500],\n",
    "    'class': ['min', 'maj', 'maj', 'maj', 'maj', 'min', ',min', 'maj', 'min', 'maj', 'min', 'maj']\n",
    "})\n",
    "df1\n"
   ]
  },
  {
   "cell_type": "code",
   "execution_count": 19,
   "id": "5500305d",
   "metadata": {},
   "outputs": [
    {
     "name": "stdout",
     "output_type": "stream",
     "text": [
      "    age  income class\n",
      "1    25    2500   maj\n",
      "2    28    2700   maj\n",
      "3    30    3200   maj\n",
      "4    35    3500   maj\n",
      "7    50    4200   maj\n",
      "9    60    4500   maj\n",
      "11   70    5500   maj\n",
      "    age  income class\n",
      "0    22    2000   min\n",
      "5    40    3800   min\n",
      "8    55    4300   min\n",
      "10   65    5000   min\n"
     ]
    }
   ],
   "source": [
    "df_maj=df1[df1['class']=='maj']\n",
    "print(df_maj)\n",
    "df_min=df1[df1['class']=='min']\n",
    "print(df_min)"
   ]
  },
  {
   "cell_type": "code",
   "execution_count": 25,
   "id": "4a024d0e",
   "metadata": {},
   "outputs": [
    {
     "data": {
      "text/html": [
       "<div>\n",
       "<style scoped>\n",
       "    .dataframe tbody tr th:only-of-type {\n",
       "        vertical-align: middle;\n",
       "    }\n",
       "\n",
       "    .dataframe tbody tr th {\n",
       "        vertical-align: top;\n",
       "    }\n",
       "\n",
       "    .dataframe thead th {\n",
       "        text-align: right;\n",
       "    }\n",
       "</style>\n",
       "<table border=\"1\" class=\"dataframe\">\n",
       "  <thead>\n",
       "    <tr style=\"text-align: right;\">\n",
       "      <th></th>\n",
       "      <th>age</th>\n",
       "      <th>income</th>\n",
       "      <th>class</th>\n",
       "    </tr>\n",
       "  </thead>\n",
       "  <tbody>\n",
       "    <tr>\n",
       "      <th>8</th>\n",
       "      <td>55</td>\n",
       "      <td>4300</td>\n",
       "      <td>min</td>\n",
       "    </tr>\n",
       "    <tr>\n",
       "      <th>10</th>\n",
       "      <td>65</td>\n",
       "      <td>5000</td>\n",
       "      <td>min</td>\n",
       "    </tr>\n",
       "    <tr>\n",
       "      <th>0</th>\n",
       "      <td>22</td>\n",
       "      <td>2000</td>\n",
       "      <td>min</td>\n",
       "    </tr>\n",
       "    <tr>\n",
       "      <th>8</th>\n",
       "      <td>55</td>\n",
       "      <td>4300</td>\n",
       "      <td>min</td>\n",
       "    </tr>\n",
       "    <tr>\n",
       "      <th>8</th>\n",
       "      <td>55</td>\n",
       "      <td>4300</td>\n",
       "      <td>min</td>\n",
       "    </tr>\n",
       "    <tr>\n",
       "      <th>10</th>\n",
       "      <td>65</td>\n",
       "      <td>5000</td>\n",
       "      <td>min</td>\n",
       "    </tr>\n",
       "    <tr>\n",
       "      <th>0</th>\n",
       "      <td>22</td>\n",
       "      <td>2000</td>\n",
       "      <td>min</td>\n",
       "    </tr>\n",
       "  </tbody>\n",
       "</table>\n",
       "</div>"
      ],
      "text/plain": [
       "    age  income class\n",
       "8    55    4300   min\n",
       "10   65    5000   min\n",
       "0    22    2000   min\n",
       "8    55    4300   min\n",
       "8    55    4300   min\n",
       "10   65    5000   min\n",
       "0    22    2000   min"
      ]
     },
     "execution_count": 25,
     "metadata": {},
     "output_type": "execute_result"
    }
   ],
   "source": [
    "# Upsampling the minority class to match the size of the majority class\n",
    "df_min_upsample = resample(df_min, replace=True, n_samples=len(df_maj), random_state=42)\n",
    "df_min_upsample"
   ]
  },
  {
   "cell_type": "code",
   "execution_count": 31,
   "id": "de88da76",
   "metadata": {},
   "outputs": [
    {
     "name": "stdout",
     "output_type": "stream",
     "text": [
      "    age  income class\n",
      "1    25    2500   maj\n",
      "2    28    2700   maj\n",
      "3    30    3200   maj\n",
      "4    35    3500   maj\n",
      "7    50    4200   maj\n",
      "9    60    4500   maj\n",
      "11   70    5500   maj\n",
      "8    55    4300   min\n",
      "10   65    5000   min\n",
      "0    22    2000   min\n",
      "8    55    4300   min\n",
      "8    55    4300   min\n",
      "10   65    5000   min\n",
      "0    22    2000   min\n",
      "class\n",
      "maj    7\n",
      "min    7\n",
      "Name: count, dtype: int64\n"
     ]
    }
   ],
   "source": [
    "# Combining back to create a balanced dataset\n",
    "df_balanced = pd.concat([df_maj, df_min_upsample])\n",
    "print(df_balanced)\n",
    "print(df_balanced['class'].value_counts())"
   ]
  },
  {
   "cell_type": "code",
   "execution_count": 27,
   "id": "00d02834",
   "metadata": {},
   "outputs": [
    {
     "name": "stdout",
     "output_type": "stream",
     "text": [
      "    age  income class\n",
      "0    22    2000   min\n",
      "1    55    4300   min\n",
      "2    25    2500   maj\n",
      "3    65    5000   min\n",
      "4    60    4500   maj\n",
      "5    65    5000   min\n",
      "6    30    3200   maj\n",
      "7    28    2700   maj\n",
      "8    22    2000   min\n",
      "9    50    4200   maj\n",
      "10   55    4300   min\n",
      "11   55    4300   min\n",
      "12   35    3500   maj\n",
      "13   70    5500   maj\n"
     ]
    }
   ],
   "source": [
    "# Shuffle the dataset to mix up the rows\n",
    "df_balanced = df_balanced.sample(frac=1, random_state=42).reset_index(drop=True)\n",
    "\n",
    "# Display the new balanced DataFrame\n",
    "print(df_balanced)"
   ]
  },
  {
   "cell_type": "code",
   "execution_count": 1,
   "id": "f612a5d4",
   "metadata": {},
   "outputs": [
    {
     "name": "stdout",
     "output_type": "stream",
     "text": [
      "Requirement already satisfied: imbalanced-learn in c:\\users\\cvr\\anaconda3\\lib\\site-packages (0.13.0)Note: you may need to restart the kernel to use updated packages.\n",
      "\n",
      "Requirement already satisfied: numpy<3,>=1.24.3 in c:\\users\\cvr\\anaconda3\\lib\\site-packages (from imbalanced-learn) (1.24.3)\n",
      "Requirement already satisfied: scipy<2,>=1.10.1 in c:\\users\\cvr\\anaconda3\\lib\\site-packages (from imbalanced-learn) (1.11.1)\n",
      "Requirement already satisfied: scikit-learn<2,>=1.3.2 in c:\\users\\cvr\\anaconda3\\lib\\site-packages (from imbalanced-learn) (1.6.1)\n",
      "Requirement already satisfied: sklearn-compat<1,>=0.1 in c:\\users\\cvr\\anaconda3\\lib\\site-packages (from imbalanced-learn) (0.1.3)\n",
      "Requirement already satisfied: joblib<2,>=1.1.1 in c:\\users\\cvr\\anaconda3\\lib\\site-packages (from imbalanced-learn) (1.2.0)\n",
      "Requirement already satisfied: threadpoolctl<4,>=2.0.0 in c:\\users\\cvr\\anaconda3\\lib\\site-packages (from imbalanced-learn) (3.5.0)\n"
     ]
    }
   ],
   "source": [
    "pip install imbalanced-learn"
   ]
  },
  {
   "cell_type": "code",
   "execution_count": 2,
   "id": "6c330072",
   "metadata": {},
   "outputs": [
    {
     "name": "stdout",
     "output_type": "stream",
     "text": [
      "class\n",
      "maj    7\n",
      "min    7\n",
      "Name: count, dtype: int64\n",
      "     age  income class\n",
      "0   22.0  2000.0   NaN\n",
      "1   25.0  2500.0   NaN\n",
      "2   28.0  2700.0   NaN\n",
      "3   30.0  3200.0   NaN\n",
      "4   35.0  3500.0   NaN\n",
      "5   40.0  3800.0   NaN\n",
      "6   45.0  4000.0   NaN\n",
      "7   50.0  4200.0   NaN\n",
      "8   55.0  4300.0   NaN\n",
      "9   60.0  4500.0   NaN\n",
      "10  65.0  5000.0   NaN\n",
      "11  70.0  5500.0   NaN\n",
      "12  40.0  3809.0   NaN\n",
      "13  43.0  3946.0   NaN\n",
      "0    NaN     NaN   maj\n",
      "1    NaN     NaN   min\n",
      "2    NaN     NaN   min\n",
      "3    NaN     NaN   min\n",
      "4    NaN     NaN   min\n",
      "5    NaN     NaN   maj\n",
      "6    NaN     NaN   maj\n",
      "7    NaN     NaN   min\n",
      "8    NaN     NaN   maj\n",
      "9    NaN     NaN   min\n",
      "10   NaN     NaN   maj\n",
      "11   NaN     NaN   min\n",
      "12   NaN     NaN   maj\n",
      "13   NaN     NaN   maj\n"
     ]
    }
   ],
   "source": [
    "import pandas as pd\n",
    "from imblearn.over_sampling import SMOTE\n",
    "\n",
    "# Fixing the dataset\n",
    "df1 = pd.DataFrame({\n",
    "    'age': [22, 25, 28, 30, 35, 40, 45, 50, 55, 60, 65, 70],\n",
    "    'income': [2000, 2500, 2700, 3200, 3500, 3800, 4000, 4200, 4300, 4500, 5000, 5500],\n",
    "    'class': ['min', 'maj', 'maj', 'maj', 'maj', 'min', 'min', 'maj', 'min', 'maj', 'min', 'maj']  # Fixed ',min'\n",
    "})\n",
    "\n",
    "# Encoding 'class' column: Convert categorical to numerical (SMOTE requires numerical labels)\n",
    "df1['class'] = df1['class'].map({'min': 0, 'maj': 1})\n",
    "\n",
    "# Splitting features and target\n",
    "X = df1[['age', 'income']]  # Features\n",
    "y = df1['class']  # Target\n",
    "\n",
    "# Applying SMOTE to balance classes\n",
    "smote = SMOTE(sampling_strategy='auto', random_state=42,k_neighbors=3)\n",
    "X_resampled, y_resampled = smote.fit_resample(X, y)\n",
    "y_resampled= y_resampled.map({0:'maj',1:'min'})\n",
    "\n",
    "# Creating the new balanced DataFrame\n",
    "df_balanced =pd.concat([pd.DataFrame(X_resampled, columns=['age', 'income']),pd.DataFrame(y_resampled, columns=['class'])])\n",
    "print(df_balanced['class'].value_counts())\n",
    "# Display the new balanced dataset\n",
    "print(df_balanced)\n"
   ]
  },
  {
   "cell_type": "code",
   "execution_count": null,
   "id": "95709a3c",
   "metadata": {},
   "outputs": [],
   "source": []
  }
 ],
 "metadata": {
  "kernelspec": {
   "display_name": "Python 3 (ipykernel)",
   "language": "python",
   "name": "python3"
  },
  "language_info": {
   "codemirror_mode": {
    "name": "ipython",
    "version": 3
   },
   "file_extension": ".py",
   "mimetype": "text/x-python",
   "name": "python",
   "nbconvert_exporter": "python",
   "pygments_lexer": "ipython3",
   "version": "3.11.5"
  }
 },
 "nbformat": 4,
 "nbformat_minor": 5
}
